{
 "cells": [
  {
   "cell_type": "markdown",
   "id": "1bff3787",
   "metadata": {},
   "source": [
    "# 오늘의 주제\n",
    "* CRUD\n",
    "* FILE"
   ]
  },
  {
   "cell_type": "code",
   "execution_count": 1,
   "id": "162fe865",
   "metadata": {},
   "outputs": [],
   "source": [
    "from emp import Emp"
   ]
  },
  {
   "cell_type": "code",
   "execution_count": 2,
   "id": "ec390ae4",
   "metadata": {},
   "outputs": [],
   "source": [
    "emps = []"
   ]
  },
  {
   "cell_type": "code",
   "execution_count": 139,
   "id": "272dea0b",
   "metadata": {},
   "outputs": [],
   "source": [
    "emps.append(Emp(11, name='smith', phone='010-6541-9870'))\n",
    "emps.append(Emp(12, name='scott', phone='010-3254-2145'))\n",
    "emps.append(Emp(13, name='ward', phone='010-2697-1220'))\n",
    "#emps.index()"
   ]
  },
  {
   "cell_type": "code",
   "execution_count": 3,
   "id": "574b0501",
   "metadata": {},
   "outputs": [],
   "source": [
    "def is_duplicate_num(num):\n",
    "    nums = []\n",
    "    for e in emps:\n",
    "        nums.append(e.num)\n",
    "    nums.append(num)\n",
    "    return len(nums)!=len(set(nums))"
   ]
  },
  {
   "cell_type": "code",
   "execution_count": 4,
   "id": "fc4e5e3c",
   "metadata": {},
   "outputs": [],
   "source": [
    "def emp_list():\n",
    "    print(\"번호\\t이름\\t전화\")\n",
    "    for emp in emps:\n",
    "        print(emp)"
   ]
  },
  {
   "cell_type": "code",
   "execution_count": 5,
   "id": "d6f4d42c",
   "metadata": {},
   "outputs": [],
   "source": [
    "def find_emp_name(name): # 검색성공일 경우 해당 사원정보 리턴, 아니면 None 리턴\n",
    "    emp = None\n",
    "    for e in emps:\n",
    "        if e.name==name:\n",
    "            emp = e\n",
    "            print(emp)\n",
    "    return emp"
   ]
  },
  {
   "cell_type": "code",
   "execution_count": 6,
   "id": "03a0808c",
   "metadata": {},
   "outputs": [],
   "source": [
    "def update_emp(num, newPhone):\n",
    "    updated = False\n",
    "    if is_duplicate_num(int(num)):\n",
    "        for emp in emps:\n",
    "            if emp.num==int(num):\n",
    "                emp.phone = newPhone\n",
    "                updated = True\n",
    "    return updated"
   ]
  },
  {
   "cell_type": "code",
   "execution_count": 144,
   "id": "5bed9a15",
   "metadata": {},
   "outputs": [],
   "source": [
    "def delete_emp(num):\n",
    "    deleted = False\n",
    "    for emp in emps:\n",
    "        if emp.num == num:\n",
    "            try:\n",
    "                emps.remove(emp)\n",
    "                deleted = True\n",
    "            except ValueError as ve:\n",
    "                pass\n",
    "    return deleted"
   ]
  },
  {
   "cell_type": "code",
   "execution_count": 7,
   "id": "9531ef5f",
   "metadata": {
    "scrolled": true
   },
   "outputs": [
    {
     "name": "stdout",
     "output_type": "stream",
     "text": [
      "\n",
      "추가(a), 검색(f), 목록(s), 수정(u), 삭제(d), 종료(x):a\n",
      "번호, 이름, 전화10 10 10\n",
      "입력 성공\n",
      "\n",
      "추가(a), 검색(f), 목록(s), 수정(u), 삭제(d), 종료(x):s\n",
      "번호\t이름\t전화\n"
     ]
    },
    {
     "ename": "NameError",
     "evalue": "name 'users' is not defined",
     "output_type": "error",
     "traceback": [
      "\u001b[1;31m---------------------------------------------------------------------------\u001b[0m",
      "\u001b[1;31mNameError\u001b[0m                                 Traceback (most recent call last)",
      "\u001b[1;32m~\\AppData\\Local\\Temp/ipykernel_12000/1647843643.py\u001b[0m in \u001b[0;36m<module>\u001b[1;34m\u001b[0m\n\u001b[0;32m     11\u001b[0m \u001b[1;33m\u001b[0m\u001b[0m\n\u001b[0;32m     12\u001b[0m     \u001b[1;32melif\u001b[0m \u001b[0muserinput\u001b[0m \u001b[1;33m==\u001b[0m \u001b[1;34m's'\u001b[0m\u001b[1;33m:\u001b[0m\u001b[1;33m\u001b[0m\u001b[1;33m\u001b[0m\u001b[0m\n\u001b[1;32m---> 13\u001b[1;33m         \u001b[0memp_list\u001b[0m\u001b[1;33m(\u001b[0m\u001b[1;33m)\u001b[0m\u001b[1;33m\u001b[0m\u001b[1;33m\u001b[0m\u001b[0m\n\u001b[0m\u001b[0;32m     14\u001b[0m \u001b[1;33m\u001b[0m\u001b[0m\n\u001b[0;32m     15\u001b[0m     \u001b[1;32melif\u001b[0m \u001b[0muserinput\u001b[0m \u001b[1;33m==\u001b[0m \u001b[1;34m'f'\u001b[0m\u001b[1;33m:\u001b[0m\u001b[1;33m\u001b[0m\u001b[1;33m\u001b[0m\u001b[0m\n",
      "\u001b[1;32m~\\AppData\\Local\\Temp/ipykernel_12000/3216451638.py\u001b[0m in \u001b[0;36memp_list\u001b[1;34m()\u001b[0m\n\u001b[0;32m      2\u001b[0m     \u001b[0mprint\u001b[0m\u001b[1;33m(\u001b[0m\u001b[1;34m\"번호\\t이름\\t전화\"\u001b[0m\u001b[1;33m)\u001b[0m\u001b[1;33m\u001b[0m\u001b[1;33m\u001b[0m\u001b[0m\n\u001b[0;32m      3\u001b[0m     \u001b[1;32mfor\u001b[0m \u001b[0memp\u001b[0m \u001b[1;32min\u001b[0m \u001b[0memps\u001b[0m\u001b[1;33m:\u001b[0m\u001b[1;33m\u001b[0m\u001b[1;33m\u001b[0m\u001b[0m\n\u001b[1;32m----> 4\u001b[1;33m         \u001b[0mprint\u001b[0m\u001b[1;33m(\u001b[0m\u001b[0memp\u001b[0m\u001b[1;33m)\u001b[0m\u001b[1;33m\u001b[0m\u001b[1;33m\u001b[0m\u001b[0m\n\u001b[0m",
      "\u001b[1;32m~\\1Python_Project\\emp.py\u001b[0m in \u001b[0;36m__str__\u001b[1;34m(self)\u001b[0m\n\u001b[0;32m     10\u001b[0m \u001b[1;33m\u001b[0m\u001b[0m\n\u001b[0;32m     11\u001b[0m     \u001b[1;32mdef\u001b[0m \u001b[0m__str__\u001b[0m\u001b[1;33m(\u001b[0m\u001b[0mself\u001b[0m\u001b[1;33m)\u001b[0m\u001b[1;33m:\u001b[0m\u001b[1;33m\u001b[0m\u001b[1;33m\u001b[0m\u001b[0m\n\u001b[1;32m---> 12\u001b[1;33m         \u001b[1;32mfor\u001b[0m \u001b[0muser\u001b[0m \u001b[1;32min\u001b[0m \u001b[0musers\u001b[0m\u001b[1;33m:\u001b[0m\u001b[1;33m\u001b[0m\u001b[1;33m\u001b[0m\u001b[0m\n\u001b[0m\u001b[0;32m     13\u001b[0m             \u001b[1;32mif\u001b[0m \u001b[0mname\u001b[0m \u001b[1;33m==\u001b[0m \u001b[0muser\u001b[0m\u001b[1;33m[\u001b[0m\u001b[1;34m'name'\u001b[0m\u001b[1;33m]\u001b[0m\u001b[1;33m:\u001b[0m\u001b[1;33m\u001b[0m\u001b[1;33m\u001b[0m\u001b[0m\n\u001b[0;32m     14\u001b[0m                 \u001b[0ms\u001b[0m \u001b[1;33m=\u001b[0m \u001b[1;34mf\"{'num', user['num']}\\t{'name', user['name']}\\t{'phone', user['phone']}\"\u001b[0m\u001b[1;33m\u001b[0m\u001b[1;33m\u001b[0m\u001b[0m\n",
      "\u001b[1;31mNameError\u001b[0m: name 'users' is not defined"
     ]
    }
   ],
   "source": [
    "while True:\n",
    "    print()\n",
    "    userinput = input(\"추가(a), 검색(f), 목록(s), 수정(u), 삭제(d), 종료(x):\")\n",
    "    if userinput == 'a':\n",
    "        (num, name, phone) = input('번호, 이름, 전화').split()               \n",
    "        if is_duplicate_num(int(num)) != True:\n",
    "            emps.append(Emp(int(num),name,phone))\n",
    "            print('입력 성공') \n",
    "        else:\n",
    "            print('중복된 번호를 입력하셨습니다. 다시 입력해주세요.')\n",
    "            \n",
    "    elif userinput == 's':\n",
    "        emp_list()\n",
    "\n",
    "    elif userinput == 'f':\n",
    "        name = input('찾으실 회원이름을 입력해주세요.')\n",
    "        if find_emp_name(name) == None:\n",
    "            print('입력된 이름으로 검색 실패')\n",
    "\n",
    "    elif userinput == 'u':\n",
    "        num, phone = input('수정할 회원번호, 전화번호를 입력해주세요.').split()\n",
    "        if update_emp(num, phone):\n",
    "            print(\"수정 성공\")\n",
    "        else:\n",
    "            print(\"수정 실패\")\n",
    "            \n",
    "    elif userinput == 'd':\n",
    "        want = input('삭제할 회원번호를 입력해주세요.')\n",
    "        if delete_emp(int(want)):\n",
    "            print(\"삭제 성공\")\n",
    "        else:\n",
    "            print(\"삭제 실패\")\n",
    "\n",
    "    elif userinput == 'x':\n",
    "        print(\"프로그램이 종료되었습니다.\")\n",
    "        break\n",
    "        \n",
    "    else:\n",
    "        print(\"***** 메뉴입력 오류 *****\")"
   ]
  },
  {
   "cell_type": "code",
   "execution_count": 188,
   "id": "7e4f3dbf",
   "metadata": {
    "scrolled": true
   },
   "outputs": [
    {
     "data": {
      "text/plain": [
       "10"
      ]
     },
     "execution_count": 188,
     "metadata": {},
     "output_type": "execute_result"
    }
   ],
   "source": [
    "import random\n",
    "random.randint(1,10)"
   ]
  },
  {
   "cell_type": "code",
   "execution_count": 204,
   "id": "f7256dcc",
   "metadata": {},
   "outputs": [
    {
     "data": {
      "text/plain": [
       "10"
      ]
     },
     "execution_count": 204,
     "metadata": {},
     "output_type": "execute_result"
    }
   ],
   "source": [
    "from random import randint\n",
    "randint(1,10)"
   ]
  },
  {
   "cell_type": "markdown",
   "id": "78cd0233",
   "metadata": {},
   "source": [
    "### 파일 다루기"
   ]
  },
  {
   "cell_type": "code",
   "execution_count": 210,
   "id": "f95bcf61",
   "metadata": {},
   "outputs": [
    {
     "name": "stdout",
     "output_type": "stream",
     "text": [
      "class Emp:\n",
      "    def __init__(self, num, name=None, phone=None):\n",
      "        self.num = num\n",
      "        self.name = name\n",
      "        self.phone = phone\n",
      "        \n",
      "    def __str__(self): \n",
      "        return f\"{self.num}\\t{self.name}\\t{self.phone}\"\n",
      "    \n",
      "    def __eq__(self, other):\n",
      "        return self.num == other.num\n"
     ]
    }
   ],
   "source": [
    "fstream = open('emp.py', 'r')\n",
    "data = fstream.read()\n",
    "print(data)\n",
    "fstream.close()"
   ]
  },
  {
   "cell_type": "code",
   "execution_count": 211,
   "id": "ac645bac",
   "metadata": {
    "scrolled": true
   },
   "outputs": [
    {
     "name": "stdout",
     "output_type": "stream",
     "text": [
      "class Emp:\n",
      "    def __init__(self, num, name=None, phone=None):\n",
      "        self.num = num\n",
      "        self.name = name\n",
      "        self.phone = phone\n",
      "        \n",
      "    def __str__(self): \n",
      "        return f\"{self.num}\\t{self.name}\\t{self.phone}\"\n",
      "    \n",
      "    def __eq__(self, other):\n",
      "        return self.num == other.num\n"
     ]
    }
   ],
   "source": [
    "with  open('emp.py', mode='r', encoding='utf-8') as fstream:\n",
    "    data = fstream.read()\n",
    "    print(data)"
   ]
  },
  {
   "cell_type": "code",
   "execution_count": 212,
   "id": "da8e4248",
   "metadata": {},
   "outputs": [
    {
     "name": "stdout",
     "output_type": "stream",
     "text": [
      "['class Emp:\\n', '    def __init__(self, num, name=None, phone=None):\\n', '        self.num = num\\n', '        self.name = name\\n', '        self.phone = phone\\n', '        \\n', '    def __str__(self): \\n', '        return f\"{self.num}\\\\t{self.name}\\\\t{self.phone}\"\\n', '    \\n', '    def __eq__(self, other):\\n', '        return self.num == other.num']\n"
     ]
    }
   ],
   "source": [
    "with  open('emp.py', mode='r', encoding='utf-8') as fstream:\n",
    "    data = fstream.readlines()  # list\n",
    "    print(data)"
   ]
  }
 ],
 "metadata": {
  "kernelspec": {
   "display_name": "Python 3 (ipykernel)",
   "language": "python",
   "name": "python3"
  },
  "language_info": {
   "codemirror_mode": {
    "name": "ipython",
    "version": 3
   },
   "file_extension": ".py",
   "mimetype": "text/x-python",
   "name": "python",
   "nbconvert_exporter": "python",
   "pygments_lexer": "ipython3",
   "version": "3.9.7"
  }
 },
 "nbformat": 4,
 "nbformat_minor": 5
}
