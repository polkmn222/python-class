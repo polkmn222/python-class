{
 "cells": [
  {
   "cell_type": "markdown",
   "id": "2d86de34",
   "metadata": {},
   "source": [
    "# 오늘의 주제\n",
    "* 파일 열기 : open()\n",
    "* CRUD      : read, write, readline\n",
    "* 파일닫기  : close()"
   ]
  },
  {
   "cell_type": "code",
   "execution_count": 17,
   "id": "23a893d1",
   "metadata": {
    "scrolled": true
   },
   "outputs": [],
   "source": [
    "fobj = open('emp.py', 'r')\n",
    "# open('emp.py')\n",
    "type(fobj) # _io.TextIOWrapper\n",
    "dir(fobj)  # Iterator, __next__(), 반복문에 적용 가능\n",
    "fobj.close()"
   ]
  },
  {
   "cell_type": "code",
   "execution_count": 18,
   "id": "ff35820a",
   "metadata": {},
   "outputs": [
    {
     "name": "stdout",
     "output_type": "stream",
     "text": [
      "class Emp:\n",
      "    def __init__(self, num, name=None, phone=None):\n",
      "        self.num = num\n",
      "        self.name = name\n",
      "        self.phone = phone\n",
      "\n",
      "    def __str__(self):\n",
      "        return f\"{self.num}\\t{self.name}\\t{self.phone}\"\n",
      "\n",
      "    def __eq__(self, other):\n",
      "        return self.num == other.num\n",
      "\n"
     ]
    }
   ],
   "source": [
    "fobj = open('emp.py', 'r')\n",
    "for data in fobj:\n",
    "    # print(data, end='') # 프린트의 디폴트(\\n) 개행을 하지마라 # Keyword Arguments\n",
    "    print(data.rstrip()) # 오른쪽 끝에 있는 공백제거\n",
    "fobj.close()"
   ]
  },
  {
   "cell_type": "code",
   "execution_count": 19,
   "id": "fecfe156",
   "metadata": {},
   "outputs": [
    {
     "data": {
      "text/plain": [
       "False"
      ]
     },
     "execution_count": 19,
     "metadata": {},
     "output_type": "execute_result"
    }
   ],
   "source": [
    "from collections.abc import Iterable, Iterator\n",
    "nums = [1,2,3]\n",
    "dir(nums)\n",
    "isinstance(nums, Iterable) # True, isinstance (Java : intance of 메소드와 동일), __getitem__()이 존재한다\n",
    "# nums.__iter__() # for of 안에서 사용가능\n",
    "isinstance(nums, Iterator) # False"
   ]
  },
  {
   "cell_type": "code",
   "execution_count": 20,
   "id": "1af84f31",
   "metadata": {},
   "outputs": [
    {
     "data": {
      "text/plain": [
       "True"
      ]
     },
     "execution_count": 20,
     "metadata": {},
     "output_type": "execute_result"
    }
   ],
   "source": [
    "# itr = nums.__getitem__(0)\n",
    "# print(nums[0])\n",
    "itr = nums.__iter__() # next만 호출, 인스턴스 안에 있는 메소드\n",
    "\n",
    "isinstance(itr, Iterator) # True"
   ]
  },
  {
   "cell_type": "code",
   "execution_count": 21,
   "id": "569612b1",
   "metadata": {},
   "outputs": [
    {
     "data": {
      "text/plain": [
       "<list_iterator at 0x280beb1be80>"
      ]
     },
     "execution_count": 21,
     "metadata": {},
     "output_type": "execute_result"
    }
   ],
   "source": [
    "# nums.__iter__()\n",
    "iter(nums) # 함수(클래스 밖)"
   ]
  },
  {
   "cell_type": "code",
   "execution_count": 22,
   "id": "098d12ef",
   "metadata": {
    "scrolled": true
   },
   "outputs": [
    {
     "data": {
      "text/plain": [
       "['_CHUNK_SIZE',\n",
       " '__class__',\n",
       " '__del__',\n",
       " '__delattr__',\n",
       " '__dict__',\n",
       " '__dir__',\n",
       " '__doc__',\n",
       " '__enter__',\n",
       " '__eq__',\n",
       " '__exit__',\n",
       " '__format__',\n",
       " '__ge__',\n",
       " '__getattribute__',\n",
       " '__gt__',\n",
       " '__hash__',\n",
       " '__init__',\n",
       " '__init_subclass__',\n",
       " '__iter__',\n",
       " '__le__',\n",
       " '__lt__',\n",
       " '__ne__',\n",
       " '__new__',\n",
       " '__next__',\n",
       " '__reduce__',\n",
       " '__reduce_ex__',\n",
       " '__repr__',\n",
       " '__setattr__',\n",
       " '__sizeof__',\n",
       " '__str__',\n",
       " '__subclasshook__',\n",
       " '_checkClosed',\n",
       " '_checkReadable',\n",
       " '_checkSeekable',\n",
       " '_checkWritable',\n",
       " '_finalizing',\n",
       " 'buffer',\n",
       " 'close',\n",
       " 'closed',\n",
       " 'detach',\n",
       " 'encoding',\n",
       " 'errors',\n",
       " 'fileno',\n",
       " 'flush',\n",
       " 'isatty',\n",
       " 'line_buffering',\n",
       " 'mode',\n",
       " 'name',\n",
       " 'newlines',\n",
       " 'read',\n",
       " 'readable',\n",
       " 'readline',\n",
       " 'readlines',\n",
       " 'reconfigure',\n",
       " 'seek',\n",
       " 'seekable',\n",
       " 'tell',\n",
       " 'truncate',\n",
       " 'writable',\n",
       " 'write',\n",
       " 'write_through',\n",
       " 'writelines']"
      ]
     },
     "execution_count": 22,
     "metadata": {},
     "output_type": "execute_result"
    }
   ],
   "source": [
    "isinstance(fobj, Iterator)\n",
    "isinstance(fobj, Iterable)\n",
    "dir(fobj)"
   ]
  },
  {
   "cell_type": "code",
   "execution_count": 23,
   "id": "efaec170",
   "metadata": {},
   "outputs": [
    {
     "name": "stdout",
     "output_type": "stream",
     "text": [
      "class Emp:\n",
      "    def __init__(self, num, name=None, phone=None):\n",
      "        self.num = num\n",
      "        self.name = name\n",
      "        self.phone = phone\n",
      "        \n",
      "    def __str__(self): \n",
      "        return f\"{self.num}\\t{self.name}\\t{self.phone}\"\n",
      "    \n",
      "    def __eq__(self, other):\n",
      "        return self.num == other.num\n",
      "    \n",
      "<class 'str'>\n"
     ]
    }
   ],
   "source": [
    "fobj = open('emp.py', 'r')\n",
    "fdata = fobj.read()\n",
    "print(fdata)\n",
    "print(type(fdata)) # str\n",
    "fobj.close()"
   ]
  },
  {
   "cell_type": "code",
   "execution_count": 24,
   "id": "702286ef",
   "metadata": {},
   "outputs": [
    {
     "name": "stdout",
     "output_type": "stream",
     "text": [
      "<class 'list'>\n",
      "class Emp:\n",
      "    def __init__(self, num, name=None, phone=None):\n",
      "        self.num = num\n",
      "        self.name = name\n",
      "        self.phone = phone\n",
      "\n",
      "    def __str__(self):\n",
      "        return f\"{self.num}\\t{self.name}\\t{self.phone}\"\n",
      "\n",
      "    def __eq__(self, other):\n",
      "        return self.num == other.num\n",
      "\n"
     ]
    }
   ],
   "source": [
    "fobj = open('emp.py', 'r')\n",
    "datalist = fobj.readlines()\n",
    "print(type(datalist)) # list\n",
    "\n",
    "\n",
    "for line in datalist:\n",
    "#     print(line, end=\"\")\n",
    "    print(line.rstrip())\n",
    "fobj.close()    "
   ]
  },
  {
   "cell_type": "code",
   "execution_count": 25,
   "id": "52ee3d8c",
   "metadata": {},
   "outputs": [
    {
     "name": "stdout",
     "output_type": "stream",
     "text": [
      "class Emp:\n",
      "    def __init__(self, num, name=None, phone=None):\n",
      "        self.num = num\n",
      "        self.name = name\n",
      "        self.phone = phone\n"
     ]
    }
   ],
   "source": [
    "fobj = open('emp.py', 'r')\n",
    "print(fobj.__next__().rstrip())\n",
    "print(fobj.__next__().rstrip())\n",
    "print(fobj.__next__().rstrip())\n",
    "print(fobj.__next__().rstrip())\n",
    "print(fobj.__next__().rstrip())\n",
    "\n",
    "fobj.close()"
   ]
  },
  {
   "cell_type": "code",
   "execution_count": 26,
   "id": "f88a8fb7",
   "metadata": {},
   "outputs": [
    {
     "name": "stdout",
     "output_type": "stream",
     "text": [
      "class Emp:\n",
      "    def __init__(self, num, name=None, phone=None):\n",
      "        self.num = num\n",
      "        self.name = name\n",
      "        self.phone = phone\n"
     ]
    }
   ],
   "source": [
    "fobj = open('emp.py', 'r')\n",
    "# fobj.__next__()\n",
    "print(next(fobj).rstrip())\n",
    "print(next(fobj).rstrip())\n",
    "print(next(fobj).rstrip())\n",
    "print(next(fobj).rstrip())\n",
    "print(next(fobj).rstrip())\n",
    "fobj.close()"
   ]
  },
  {
   "cell_type": "code",
   "execution_count": 27,
   "id": "75c7760a",
   "metadata": {
    "scrolled": true
   },
   "outputs": [
    {
     "name": "stdout",
     "output_type": "stream",
     "text": [
      "class Emp:\n",
      "    def __init__(self, num, name=None, phone=None):\n",
      "        self.num = num\n",
      "        self.name = name\n",
      "        self.phone = phone\n",
      "\n",
      "    def __str__(self):\n",
      "        return f\"{self.num}\\t{self.name}\\t{self.phone}\"\n",
      "\n",
      "    def __eq__(self, other):\n",
      "        return self.num == other.num\n",
      "\n"
     ]
    }
   ],
   "source": [
    "with open('emp.py', 'r') as fobj:\n",
    "    for line in fobj:\n",
    "        print(line.rstrip())\n",
    "        \n",
    "fobj.close()        "
   ]
  },
  {
   "cell_type": "code",
   "execution_count": 28,
   "id": "4f32ae29",
   "metadata": {},
   "outputs": [
    {
     "name": "stdout",
     "output_type": "stream",
     "text": [
      "11\tKing\t010-2147-5201\n",
      "12\tSuzan\t010-3697-2145\n",
      "13\tBlake\t010-8520-1250\n",
      "14\telise\t010-0000-0000\n",
      "15\tpowder\t010-1111-1111\n",
      "16\tqueen\t010-2222-3333\n",
      "17\tphone\t010-3333-4444\n",
      "18\tpowder\t010-1111-1111\n",
      "19\tpowder\t010-1111-1111\n",
      "20\tpowder\t010-1111-1111\n",
      "21\tpowder\t010-1111-1111\n"
     ]
    }
   ],
   "source": [
    "# Emp 클래스가 포함된 모듈을 임포트한다\n",
    "from emp import Emp\n",
    "\n",
    "# with 절을 이용하여 emps.txt를 읽기모드로 열고 객체를 fobj에 저장\n",
    "with open('emps.txt', 'r') as fobj:\n",
    "    # 한 행을 읽어서 공백 기준으로 쪼갠다\n",
    "    for line in fobj:\n",
    "        (num,name,phone) = line.strip().split()\n",
    "        print(Emp(num,name,phone)) "
   ]
  },
  {
   "cell_type": "code",
   "execution_count": 29,
   "id": "8edf91b4",
   "metadata": {},
   "outputs": [
    {
     "name": "stdout",
     "output_type": "stream",
     "text": [
      "11\tKing\t010-2147-5201\n",
      "12\tSuzan\t010-3697-2145\n",
      "13\tBlake\t010-8520-1250\n",
      "14\telise\t010-0000-0000\n",
      "15\tpowder\t010-1111-1111\n",
      "16\tqueen\t010-2222-3333\n",
      "17\tphone\t010-3333-4444\n",
      "18\tpowder\t010-1111-1111\n",
      "19\tpowder\t010-1111-1111\n",
      "20\tpowder\t010-1111-1111\n",
      "21\tpowder\t010-1111-1111\n"
     ]
    }
   ],
   "source": [
    "from emp import Emp\n",
    "\n",
    "with open('emps.txt', 'r') as fobj:\n",
    "    for line in fobj:\n",
    "        tup = line.strip().split()\n",
    "        emp = Emp(tup[0], tup[1], tup[2])\n",
    "        print(emp)"
   ]
  },
  {
   "cell_type": "code",
   "execution_count": 30,
   "id": "060d77ff",
   "metadata": {},
   "outputs": [
    {
     "name": "stdout",
     "output_type": "stream",
     "text": [
      "[3, 6, 9, 12, 15, 18, 21, 24, 27, 30]\n"
     ]
    }
   ],
   "source": [
    "list = [ 1, 2, 3, 4, 5, 6, 7, 8, 9, 10 ]\n",
    "\n",
    "# 리스트 안에서 for 문 사용하기 1\n",
    "list = [ num * 3 for num in list ]\n",
    "print(list)"
   ]
  },
  {
   "cell_type": "code",
   "execution_count": 34,
   "id": "c32b3525",
   "metadata": {
    "scrolled": true
   },
   "outputs": [
    {
     "name": "stdout",
     "output_type": "stream",
     "text": [
      "11\tKing\t010-2147-5201\n",
      "12\tSuzan\t010-3697-2145\n",
      "13\tBlake\t010-8520-1250\n",
      "14\telise\t010-0000-0000\n",
      "15\tpowder\t010-1111-1111\n",
      "16\tqueen\t010-2222-3333\n",
      "17\tphone\t010-3333-4444\n",
      "18\tpowder\t010-1111-1111\n",
      "19\tpowder\t010-1111-1111\n",
      "20\tpowder\t010-1111-1111\n",
      "21\tpowder\t010-1111-1111\n"
     ]
    }
   ],
   "source": [
    "from emp import Emp\n",
    "\n",
    "emps = []\n",
    "with open('emps.txt', 'r') as fobj:\n",
    "    for line in fobj:\n",
    "        num,name,phone = line.strip().split()\n",
    "        emps.append(Emp(num,name,phone))\n",
    "\n",
    "# 목록을 받아서 화면에 표시한다\n",
    "show_list(emps)"
   ]
  },
  {
   "cell_type": "code",
   "execution_count": 35,
   "id": "90c78d6b",
   "metadata": {},
   "outputs": [
    {
     "name": "stdout",
     "output_type": "stream",
     "text": [
      "11\tKing\t010-2147-5201\n",
      "12\tSuzan\t010-3697-2145\n",
      "13\tBlake\t010-8520-1250\n",
      "14\telise\t010-0000-0000\n",
      "15\tpowder\t010-1111-1111\n",
      "16\tqueen\t010-2222-3333\n",
      "17\tphone\t010-3333-4444\n",
      "18\tpowder\t010-1111-1111\n",
      "19\tpowder\t010-1111-1111\n",
      "20\tpowder\t010-1111-1111\n",
      "21\tpowder\t010-1111-1111\n"
     ]
    }
   ],
   "source": [
    "# 목록을 받아서 화면에 표시한다\n",
    "# Emp 클래스가 포함된 모듈을 임포트한다\n",
    "\n",
    "def show_list(emps):\n",
    "    for emp in emps:\n",
    "        print(emp)\n",
    "\n",
    "from emp import Emp\n",
    "\n",
    "emps = []\n",
    "with open('emps.txt', 'r') as fobj:\n",
    "    for line in fobj:\n",
    "        num,name,phone = line.strip().split()\n",
    "        emps.append(Emp(num,name,phone))\n",
    "\n",
    "# 목록을 받아서 화면에 표시한다\n",
    "show_list(emps)"
   ]
  },
  {
   "cell_type": "code",
   "execution_count": 36,
   "id": "7cf53df8",
   "metadata": {},
   "outputs": [],
   "source": [
    "# 파일에 한 행 추가\n",
    "# open, append mode, write\n",
    "fobj = open('filename', 'a')\n",
    "fobj.write('line\\n')\n",
    "fobj.close()"
   ]
  },
  {
   "cell_type": "code",
   "execution_count": 37,
   "id": "67b93610",
   "metadata": {},
   "outputs": [],
   "source": [
    "from emp import Emp\n",
    "\n",
    "def load_emps():\n",
    "    emps = []\n",
    "    with open('emps.txt', 'r') as fobj:\n",
    "        for line in fobj:\n",
    "            num,name,phone = line.strip().split()\n",
    "            emps.append(Emp(num,name,phone))\n",
    "    return emps"
   ]
  },
  {
   "cell_type": "code",
   "execution_count": 38,
   "id": "10cb76a8",
   "metadata": {},
   "outputs": [],
   "source": [
    "def save_emp(emp):\n",
    "    line = \"{} {} {}\".format(emp.num, emp.name, emp.phone)\n",
    "    with open('emps.txt', 'a') as fobj:\n",
    "        fobj.write(line + '\\n')"
   ]
  },
  {
   "cell_type": "code",
   "execution_count": 39,
   "id": "f4cddf3f",
   "metadata": {},
   "outputs": [
    {
     "name": "stdout",
     "output_type": "stream",
     "text": [
      "11\tKing\t010-2147-5201\n",
      "12\tSuzan\t010-3697-2145\n",
      "13\tBlake\t010-8520-1250\n",
      "14\telise\t010-0000-0000\n",
      "15\tpowder\t010-1111-1111\n",
      "16\tqueen\t010-2222-3333\n",
      "17\tphone\t010-3333-4444\n",
      "18\tpowder\t010-1111-1111\n",
      "19\tpowder\t010-1111-1111\n",
      "20\tpowder\t010-1111-1111\n",
      "21\tpowder\t010-1111-1111\n"
     ]
    }
   ],
   "source": [
    "show_list(load_emps())"
   ]
  },
  {
   "cell_type": "code",
   "execution_count": 40,
   "id": "ae89f04e",
   "metadata": {},
   "outputs": [
    {
     "ename": "KeyboardInterrupt",
     "evalue": "Interrupted by user",
     "output_type": "error",
     "traceback": [
      "\u001b[1;31m---------------------------------------------------------------------------\u001b[0m",
      "\u001b[1;31mKeyboardInterrupt\u001b[0m                         Traceback (most recent call last)",
      "\u001b[1;32m~\\AppData\\Local\\Temp/ipykernel_7080/3677282511.py\u001b[0m in \u001b[0;36m<module>\u001b[1;34m\u001b[0m\n\u001b[0;32m      2\u001b[0m \u001b[1;31m# 목록보기 기능을 실행하면 추가된 정보가 표시되어야 함\u001b[0m\u001b[1;33m\u001b[0m\u001b[1;33m\u001b[0m\u001b[0m\n\u001b[0;32m      3\u001b[0m \u001b[1;33m\u001b[0m\u001b[0m\n\u001b[1;32m----> 4\u001b[1;33m \u001b[0mnum\u001b[0m\u001b[1;33m,\u001b[0m \u001b[0mname\u001b[0m\u001b[1;33m,\u001b[0m \u001b[0mphone\u001b[0m \u001b[1;33m=\u001b[0m \u001b[0minput\u001b[0m\u001b[1;33m(\u001b[0m\u001b[1;34m'번호 이름 전화: '\u001b[0m\u001b[1;33m)\u001b[0m\u001b[1;33m.\u001b[0m\u001b[0mstrip\u001b[0m\u001b[1;33m(\u001b[0m\u001b[1;33m)\u001b[0m\u001b[1;33m.\u001b[0m\u001b[0msplit\u001b[0m\u001b[1;33m(\u001b[0m\u001b[1;33m)\u001b[0m \u001b[1;31m# 키보드에서 한 사원정보를 입력 받는다\u001b[0m\u001b[1;33m\u001b[0m\u001b[1;33m\u001b[0m\u001b[0m\n\u001b[0m\u001b[0;32m      5\u001b[0m \u001b[0msave_emp\u001b[0m\u001b[1;33m(\u001b[0m\u001b[0mEmp\u001b[0m\u001b[1;33m(\u001b[0m\u001b[0mnum\u001b[0m\u001b[1;33m,\u001b[0m\u001b[0mname\u001b[0m\u001b[1;33m,\u001b[0m\u001b[0mphone\u001b[0m\u001b[1;33m)\u001b[0m\u001b[1;33m)\u001b[0m \u001b[1;31m# 사원정보를 파일에저장\u001b[0m\u001b[1;33m\u001b[0m\u001b[1;33m\u001b[0m\u001b[0m\n\u001b[0;32m      6\u001b[0m \u001b[0mshow_list\u001b[0m\u001b[1;33m(\u001b[0m\u001b[0mload_emps\u001b[0m\u001b[1;33m(\u001b[0m\u001b[1;33m)\u001b[0m\u001b[1;33m)\u001b[0m \u001b[1;31m# 저장된 데이터 확인, 목록을 화면에 표시한다\u001b[0m\u001b[1;33m\u001b[0m\u001b[1;33m\u001b[0m\u001b[0m\n",
      "\u001b[1;32mC:\\anaconda3\\lib\\site-packages\\ipykernel\\kernelbase.py\u001b[0m in \u001b[0;36mraw_input\u001b[1;34m(self, prompt)\u001b[0m\n\u001b[0;32m   1004\u001b[0m                 \u001b[1;34m\"raw_input was called, but this frontend does not support input requests.\"\u001b[0m\u001b[1;33m\u001b[0m\u001b[1;33m\u001b[0m\u001b[0m\n\u001b[0;32m   1005\u001b[0m             )\n\u001b[1;32m-> 1006\u001b[1;33m         return self._input_request(\n\u001b[0m\u001b[0;32m   1007\u001b[0m             \u001b[0mstr\u001b[0m\u001b[1;33m(\u001b[0m\u001b[0mprompt\u001b[0m\u001b[1;33m)\u001b[0m\u001b[1;33m,\u001b[0m\u001b[1;33m\u001b[0m\u001b[1;33m\u001b[0m\u001b[0m\n\u001b[0;32m   1008\u001b[0m             \u001b[0mself\u001b[0m\u001b[1;33m.\u001b[0m\u001b[0m_parent_ident\u001b[0m\u001b[1;33m[\u001b[0m\u001b[1;34m\"shell\"\u001b[0m\u001b[1;33m]\u001b[0m\u001b[1;33m,\u001b[0m\u001b[1;33m\u001b[0m\u001b[1;33m\u001b[0m\u001b[0m\n",
      "\u001b[1;32mC:\\anaconda3\\lib\\site-packages\\ipykernel\\kernelbase.py\u001b[0m in \u001b[0;36m_input_request\u001b[1;34m(self, prompt, ident, parent, password)\u001b[0m\n\u001b[0;32m   1049\u001b[0m             \u001b[1;32mexcept\u001b[0m \u001b[0mKeyboardInterrupt\u001b[0m\u001b[1;33m:\u001b[0m\u001b[1;33m\u001b[0m\u001b[1;33m\u001b[0m\u001b[0m\n\u001b[0;32m   1050\u001b[0m                 \u001b[1;31m# re-raise KeyboardInterrupt, to truncate traceback\u001b[0m\u001b[1;33m\u001b[0m\u001b[1;33m\u001b[0m\u001b[0m\n\u001b[1;32m-> 1051\u001b[1;33m                 \u001b[1;32mraise\u001b[0m \u001b[0mKeyboardInterrupt\u001b[0m\u001b[1;33m(\u001b[0m\u001b[1;34m\"Interrupted by user\"\u001b[0m\u001b[1;33m)\u001b[0m \u001b[1;32mfrom\u001b[0m \u001b[1;32mNone\u001b[0m\u001b[1;33m\u001b[0m\u001b[1;33m\u001b[0m\u001b[0m\n\u001b[0m\u001b[0;32m   1052\u001b[0m             \u001b[1;32mexcept\u001b[0m \u001b[0mException\u001b[0m\u001b[1;33m:\u001b[0m\u001b[1;33m\u001b[0m\u001b[1;33m\u001b[0m\u001b[0m\n\u001b[0;32m   1053\u001b[0m                 \u001b[0mself\u001b[0m\u001b[1;33m.\u001b[0m\u001b[0mlog\u001b[0m\u001b[1;33m.\u001b[0m\u001b[0mwarning\u001b[0m\u001b[1;33m(\u001b[0m\u001b[1;34m\"Invalid Message:\"\u001b[0m\u001b[1;33m,\u001b[0m \u001b[0mexc_info\u001b[0m\u001b[1;33m=\u001b[0m\u001b[1;32mTrue\u001b[0m\u001b[1;33m)\u001b[0m\u001b[1;33m\u001b[0m\u001b[1;33m\u001b[0m\u001b[0m\n",
      "\u001b[1;31mKeyboardInterrupt\u001b[0m: Interrupted by user"
     ]
    }
   ],
   "source": [
    "# 키보드에서 num,name,phone을 입력받아서 emps.txt에 한 행으로 추가\n",
    "# 목록보기 기능을 실행하면 추가된 정보가 표시되어야 함\n",
    "\n",
    "num, name, phone = input('번호 이름 전화: ').strip().split() # 키보드에서 한 사원정보를 입력 받는다\n",
    "save_emp(Emp(num,name,phone)) # 사원정보를 파일에저장\n",
    "show_list(load_emps()) # 저장된 데이터 확인, 목록을 화면에 표시한다"
   ]
  },
  {
   "cell_type": "code",
   "execution_count": null,
   "id": "a1b75680",
   "metadata": {},
   "outputs": [],
   "source": [
    "# 키보드에서 입력된 사원번호를 키워드로 emps.txt에서 검색하여\n",
    "# 검색된 사원정보를 화면에 표시\n",
    "# find_emp(emp) : Emp 객체 리턴\n",
    "# [Emp, Emp...]\n",
    "\n",
    "nums = [3, 4 ,5]\n",
    "5 in nums\n",
    "10 in nums    # 10==3, 10==4, 10==5\n",
    "emp in emps   # emp==emps[0], emp==emps[1], ...\n",
    "\n"
   ]
  },
  {
   "cell_type": "code",
   "execution_count": 44,
   "id": "5bb83d96",
   "metadata": {},
   "outputs": [
    {
     "name": "stdout",
     "output_type": "stream",
     "text": [
      "검색하려는 사원의 번호: 11\n",
      "11\tKing\t010-2147-5201\n"
     ]
    }
   ],
   "source": [
    "# 파일 데이터를 로드\n",
    "emplist = load_emps()\n",
    "# 위에서 로드된 리스트로부터 키보드에서 입력된 사원번호의 Emp객체의 포함여부 확인\n",
    "sNum = input('검색하려는 사원의 번호: ')\n",
    "emp = Emp(sNum)\n",
    "\n",
    "found = None\n",
    "if e in emplist:\n",
    "    if e.name == sNum:\n",
    "        print('찾음')\n",
    "    found = emplist[emplist.index(emp)]\n",
    "    \n",
    "if found:\n",
    "   print(found)\n",
    "else:\n",
    "   print('검색실패')"
   ]
  },
  {
   "cell_type": "code",
   "execution_count": 45,
   "id": "216ede43",
   "metadata": {},
   "outputs": [],
   "source": [
    "def find_emp(emp):\n",
    "    found = None\n",
    "    \n",
    "    if emp in load_emps():\n",
    "        found = emplist[emplist.index(emp)]\n",
    "    return found"
   ]
  },
  {
   "cell_type": "code",
   "execution_count": 47,
   "id": "b5c7d088",
   "metadata": {},
   "outputs": [
    {
     "name": "stdout",
     "output_type": "stream",
     "text": [
      "검색하려는 사원의 번호: 11\n",
      "11\tKing\t010-2147-5201\n"
     ]
    }
   ],
   "source": [
    "sNum = input('검색하려는 사원의 번호: ')\n",
    "emp = Emp(sNum.strip())\n",
    "found = find_emp(emp)\n",
    "if found:\n",
    "    print(found)\n",
    "else:\n",
    "    print('검색실패')"
   ]
  },
  {
   "cell_type": "code",
   "execution_count": null,
   "id": "d5055c93",
   "metadata": {},
   "outputs": [],
   "source": [
    "Emp('11') in load_emps()"
   ]
  },
  {
   "cell_type": "code",
   "execution_count": 50,
   "id": "fc4a42c3",
   "metadata": {},
   "outputs": [
    {
     "name": "stdout",
     "output_type": "stream",
     "text": [
      "사원번호 전화: 11 11\n",
      "11\tNone\t11\n"
     ]
    }
   ],
   "source": [
    "# 키보드에서 사번, 전화번호를 받아서 해당 사원의 정보를 갱신한다\n",
    "# update_emp(emp) : True/False\n",
    "num, phone = input('사원번호 전화: ').strip().split()\n",
    "key = Emp(num, phone=phone)\n",
    "print(key)"
   ]
  },
  {
   "cell_type": "code",
   "execution_count": 51,
   "id": "5dcf92b9",
   "metadata": {},
   "outputs": [],
   "source": [
    "def overwrite(emplist):\n",
    "    try:\n",
    "        with open('emps.txt', 'w') as fobj:\n",
    "            for emp in emplist:\n",
    "                line = \"{} {} {} \".format(emp.num, emp.name, emp.phone)\n",
    "                fobj.write(line + \"\\n\")\n",
    "        return True\n",
    "    except:\n",
    "        return False"
   ]
  },
  {
   "cell_type": "code",
   "execution_count": 52,
   "id": "a75fe7f9",
   "metadata": {},
   "outputs": [],
   "source": [
    "def update_emp(key):\n",
    "    updated = False\n",
    "    emplist = load_emps()\n",
    "    if key in emplist:\n",
    "        emplist[emplist.index(key)].phone = key.phone\n",
    "        updated = overwrite(emplist)\n",
    "    return updated    "
   ]
  },
  {
   "cell_type": "code",
   "execution_count": 54,
   "id": "690bc123",
   "metadata": {
    "scrolled": true
   },
   "outputs": [
    {
     "name": "stdout",
     "output_type": "stream",
     "text": [
      "수정성공\n",
      "11\tKing\t11\n",
      "12\tSuzan\t010-3697-2145\n",
      "13\tBlake\t010-8520-1250\n",
      "14\telise\t010-0000-0000\n",
      "15\tpowder\t010-1111-1111\n",
      "16\tqueen\t010-2222-3333\n",
      "17\tphone\t010-3333-4444\n",
      "18\tpowder\t010-1111-1111\n",
      "19\tpowder\t010-1111-1111\n",
      "20\tpowder\t010-1111-1111\n",
      "21\tpowder\t010-1111-1111\n"
     ]
    }
   ],
   "source": [
    "if update_emp(key):\n",
    "    print('수정성공')\n",
    "else:\n",
    "    print('수정실패')\n",
    "show_list(load_emps())    "
   ]
  },
  {
   "cell_type": "code",
   "execution_count": null,
   "id": "f4c98b42",
   "metadata": {},
   "outputs": [],
   "source": [
    "def delete_emp(key):\n",
    "    deleted = False\n",
    "    emplist = load_emps()\n",
    "    if key in emplist:\n",
    "        emplist.remove(key)\n",
    "        deleted = overwrite(emplist)\n",
    "    return deleted"
   ]
  },
  {
   "cell_type": "code",
   "execution_count": null,
   "id": "551e58f1",
   "metadata": {},
   "outputs": [],
   "source": [
    "# 로드, 리스트에서 삭제대상 찾아서 삭제, 수정된 리스트로 파일 덮어쓰기\n",
    "sNum = input('삭제할 사원번호:')\n",
    "key = Emp(sNum.strip())"
   ]
  },
  {
   "cell_type": "code",
   "execution_count": null,
   "id": "0a949d02",
   "metadata": {},
   "outputs": [],
   "source": [
    "deleted = delete_emp(key)\n",
    "if deleted:\n",
    "    print('삭제 성공')\n",
    "else:\n",
    "    print('삭제 실패')"
   ]
  },
  {
   "cell_type": "markdown",
   "id": "5c185557",
   "metadata": {},
   "source": [
    "# 객체 직렬화(Serialization)\n",
    "메모리상에 저장된 객체를 파일이나 네트워크로 전송할 때 필요함"
   ]
  },
  {
   "cell_type": "code",
   "execution_count": null,
   "id": "2479dbd1",
   "metadata": {},
   "outputs": [],
   "source": [
    "emp = Emp(15, 'Scott', '000-1111-2222')\n",
    "with open('empObj.pickle', 'wb') as fw:\n",
    "    pickle.dump(emp, fw)"
   ]
  }
 ],
 "metadata": {
  "kernelspec": {
   "display_name": "Python 3 (ipykernel)",
   "language": "python",
   "name": "python3"
  },
  "language_info": {
   "codemirror_mode": {
    "name": "ipython",
    "version": 3
   },
   "file_extension": ".py",
   "mimetype": "text/x-python",
   "name": "python",
   "nbconvert_exporter": "python",
   "pygments_lexer": "ipython3",
   "version": "3.9.7"
  }
 },
 "nbformat": 4,
 "nbformat_minor": 5
}
