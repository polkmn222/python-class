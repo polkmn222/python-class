{
 "cells": [
  {
   "cell_type": "markdown",
   "id": "5d2dbfb3",
   "metadata": {},
   "source": [
    "# 오늘의 주제\n",
    "* 채팅\n",
    "* 파일 전송\n",
    "* mysql"
   ]
  },
  {
   "cell_type": "code",
   "execution_count": null,
   "id": "028fe71a",
   "metadata": {},
   "outputs": [],
   "source": [
    "from socket import *\n",
    "import pickle\n",
    "import time\n",
    "import threading\n",
    "from chat import ChatMsg\n",
    "\n",
    "class SendThread(threading.Thread):\n",
    "    \n",
    "    def __init__(self, soc):\n",
    "        threading.Thread.__init__(self)\n",
    "        self.soc = soc \n",
    "    \n",
    "    def run(self):\n",
    "        while True:\n",
    "            sMsg = input('입력: ')          # 3/hello\n",
    "            in_list = sMsg.split('/')       # ['3', 'hello']\n",
    "            chatmsg = None\n",
    "            if len(in_list) == 1:           # 모두에게 보내는 메시지\n",
    "                chatmsg = ChatMsg(sMsg)\n",
    "            elif len(in_list) == 2:\n",
    "                n, msg = in_list\n",
    "                chatmsg = ChatMsg(msg, to=int(n))\n",
    "#             chatmsg = pickle.dumps(ChatMsg(sMsg))\n",
    "#             self.soc.send(chatmsg)\n",
    "            self.soc.send(pickle.dumps(chatmsg))\n",
    "\n",
    "    \n",
    "clientSock = socket(AF_INET, SOCK_STREAM)  # 소켓 생성\n",
    "clientSock.connect(('127.0.0.1', 1122))    # 서버에 접속\n",
    "\n",
    "SendThread(clientSock).start()\n",
    "\n",
    "while True:\n",
    "    msg = clientSock.recv(1024)                \n",
    "    print(pickle.loads(msg))\n",
    "\n",
    "print('클라이언트 종료...')"
   ]
  },
  {
   "cell_type": "code",
   "execution_count": null,
   "id": "bc017ef1",
   "metadata": {},
   "outputs": [],
   "source": [
    "from socket import *\n",
    "import pickle\n",
    "import time\n",
    "from chat import ChatMsg\n",
    "import threading\n",
    "\n",
    "\n",
    "class sendThread(threading.Thread):\n",
    "    def __init__(self, soc):\n",
    "        threading.Thread.__init__(self)\n",
    "        self.soc = soc\n",
    "        \n",
    "    def run(self):\n",
    "        while True:\n",
    "                sMsg = input('입력 : ')\n",
    "                in_list = sMsg.split('/')\n",
    "                chatmsg = None\n",
    "                if len(in_list)==1:                            # 모두에게 보내는 메시지\n",
    "                    chatmsg = ChatMsg(sMsg)\n",
    "                elif len(in_list)==2:                          # 특정인에게 보내는 메시지\n",
    "                    n, msg = in_list\n",
    "                    chatmsg = ChatMsg(msg, To = int(n))\n",
    "                elif len(in_list)==3:                          # 특정인에게 파일첨부 보내기\n",
    "                    n, msg, fname = in_list\n",
    "                    with open(fname, 'rb') as fin:\n",
    "                        fdata = fin.read()\n",
    "                        chatmsg = ChatMsg(msg, To = int(n), attach = fdata)\n",
    "                        print('보내는 파일크기 : ', len(chatmsg.attach))\n",
    "                cmsg = pickle.dumps(chatmsg)\n",
    "                self.soc.send(cmsg)\n",
    "\n",
    "\n",
    "\n",
    "\n",
    "soc = socket(AF_INET, SOCK_STREAM)   # 소켓 생성\n",
    "soc.connect(('127.0.0.1', 1122))     # 서버에 접속 ip주소/포트번호\n",
    "\n",
    "sendThread(soc).start()\n",
    "\n",
    "while True:\n",
    "    msg = soc.recv(7168)        # 서버 데이터 수신 대기 (한꺼번에 받을 데이터 크기1KB )\n",
    "    smsg = pickle.loads(msg)\n",
    "    print(smsg)                 # 서버로부터 수신된 데이터를 화면에 표시\n",
    "    if smsg.attach:\n",
    "        print('받은 파일크기 : ', len(smsg.attach))\n",
    "        with open('copy.jpg', 'wb') as fout:\n",
    "            fout.write(smsg.attach)\n",
    "            print('파일 저장 성공')\n",
    "\n",
    "print('클라이언트 종료..~')\n"
   ]
  },
  {
   "cell_type": "code",
   "execution_count": null,
   "id": "dfca84dd",
   "metadata": {},
   "outputs": [],
   "source": [
    "n, msg, fname = '3/msg/fname'.split('/')\n",
    "with open('test.jpg', 'rb') as fin:\n",
    "    img_data = fin.read()\n",
    "#     print(type(img_data))\n",
    "    ChatMsg(msg, to=int(n), attach=img_data)\n",
    "    \n",
    "print('이미지 로드 완료')    "
   ]
  },
  {
   "cell_type": "code",
   "execution_count": null,
   "id": "fea78043",
   "metadata": {},
   "outputs": [],
   "source": [
    "# mysql\n",
    "import pymysql"
   ]
  },
  {
   "cell_type": "code",
   "execution_count": 3,
   "id": "d1f47275",
   "metadata": {},
   "outputs": [
    {
     "name": "stdout",
     "output_type": "stream",
     "text": [
      "5 Smith 010 smith@daum.net\n",
      "6 Blake 010-3333-7777 blake@naver.com\n",
      "7 10 10 10\n",
      "15 Smith1 010-5417-3251 smith@daum.net\n",
      "16 Blake1 010-2547-3210 blake@naver.com\n"
     ]
    }
   ],
   "source": [
    "import pymysql\n",
    "# 152.70.92.222\n",
    "# MySQL Connection 연결\n",
    "# conn = pymysql.connect(host='localhost', user='root', password ='tjoeun', db = 'world', charset='utf-8')\n",
    "conn = pymysql.connect(host='localhost', user='root', password='tjoeun', db = 'mydb', charset = 'utf8')\n",
    "\n",
    "curs = conn.cursor()\n",
    "\n",
    "sql = \"SELECT num, uid, phone, email From user LIMIT 10\"\n",
    "curs.execute(sql)\n",
    "\n",
    "rows = curs.fetchall()\n",
    "for (num, name, phone, email) in rows:\n",
    "    print(num, name, phone, email)\n",
    "    \n",
    "curs.close()\n",
    "conn.close()"
   ]
  },
  {
   "cell_type": "code",
   "execution_count": null,
   "id": "9b659484",
   "metadata": {
    "scrolled": true
   },
   "outputs": [],
   "source": [
    "import pymysql\n",
    "\n",
    "# MySQL Connection 연결\n",
    "\n",
    "conn=pymysql.connect(host='localhost', user='root',password='tjoeun', db='world', charset='utf8')\n",
    "\n",
    "\n",
    "#Connection 으로부터 Cursor 생성\n",
    "# Dictoionary Cursor 생성\n",
    "curs = conn.cursor(pymysql.cursors.DictCursor)\n",
    "\n",
    "# SQL 실행\n",
    "sql = \"SELECT code, name, continent FROM country WHERE code=%s AND continent=%s\"\n",
    "curs.execute(sql, ('KOR','ASIA'))\n",
    "\n",
    "# 데이타 Fetch\n",
    "rows = curs.fetchall()\n",
    "for row in rows:\n",
    "    print(row)\n",
    "    print(row['code'], row['name'], row['continent'])\n",
    "curs.close()\n",
    "#Connection 닫기\n",
    "conn.close()"
   ]
  },
  {
   "cell_type": "code",
   "execution_count": 2,
   "id": "9eecd841",
   "metadata": {},
   "outputs": [
    {
     "name": "stdout",
     "output_type": "stream",
     "text": [
      "2개행 입력성공\n",
      "사용자 추가 성공\n"
     ]
    }
   ],
   "source": [
    "import pymysql\n",
    " \n",
    "# MySQL Connection 생성\n",
    "conn = pymysql.connect(host='localhost', user='root', password='tjoeun',\n",
    "                       db='mydb', charset='utf8')\n",
    " \n",
    "# 다수개의 행을 입력하는 경우\n",
    "vals = ((\"Smith1\",\"smith\", \"010-5417-3251\", \"smith@daum.net\"), \n",
    "        (\"Blake1\",\"blake\", \"010-2547-3210\", \"blake@naver.com\"))\n",
    "sql = \"INSERT INTO user(uid, pwd, phone, email) VALUES (%s,%s,%s,%s)\"\n",
    "# sql = \"SELECT num, uid, phone, email From user LIMIT 10\"\n",
    "# 다수개의 행을 추가하는 경우 executemany() 를 사용한다\n",
    "with conn.cursor() as cursor:\n",
    "    n = cursor.executemany(sql, vals )\n",
    "    # cursor.execute(sql,('a','b','c')) 이와같은 문장을 반복해서 다수행을 입력할 수도 있다\n",
    "    if n==2:\n",
    "        print('2개행 입력성공')\n",
    "        conn.commit()  # commit을 사용하지 않으면 테이블에 반영되지 않음\n",
    "\n",
    "conn.close()\n",
    "print('사용자 추가 성공')"
   ]
  },
  {
   "cell_type": "code",
   "execution_count": null,
   "id": "1e0ebf5c",
   "metadata": {},
   "outputs": [],
   "source": [
    "import pymysql\n",
    " \n",
    "# MySQL Connection 생성\n",
    "conn = pymysql.connect(host='localhost', user='root', password='tjoeun',\n",
    "                       db='mydb', charset='utf8')\n",
    " \n",
    "# Update\n",
    "sql = \"UPDATE user SET phone=%s WHERE num=%s\"\n",
    "\n",
    "with conn.cursor() as cursor:\n",
    "    n = cursor.execute(sql, ('010-3333-7777', 6) )\n",
    "\n",
    "    if n==1:\n",
    "        print('수정 성공')\n",
    "        conn.commit()\n",
    "\n",
    "conn.close()"
   ]
  },
  {
   "cell_type": "code",
   "execution_count": null,
   "id": "9800c65d",
   "metadata": {},
   "outputs": [],
   "source": [
    "import pymysql\n",
    " \n",
    "# MySQL Connection 생성\n",
    "conn = pymysql.connect(host='localhost', user='root', password='tjoeun',\n",
    "                       db='mydb', charset='utf8')\n",
    " \n",
    "# Update\n",
    "sql = \"DELETE FROM user WHERE num=%s\"\n",
    "\n",
    "with conn.cursor() as cursor:\n",
    "    n = cursor.execute(sql, 1)\n",
    "\n",
    "    if n==1:\n",
    "        print('삭제 성공')\n",
    "        conn.commit()\n",
    "\n",
    "conn.close()"
   ]
  }
 ],
 "metadata": {
  "kernelspec": {
   "display_name": "Python 3 (ipykernel)",
   "language": "python",
   "name": "python3"
  },
  "language_info": {
   "codemirror_mode": {
    "name": "ipython",
    "version": 3
   },
   "file_extension": ".py",
   "mimetype": "text/x-python",
   "name": "python",
   "nbconvert_exporter": "python",
   "pygments_lexer": "ipython3",
   "version": "3.9.7"
  }
 },
 "nbformat": 4,
 "nbformat_minor": 5
}
