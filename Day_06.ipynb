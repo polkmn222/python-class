{
 "cells": [
  {
   "cell_type": "markdown",
   "id": "529d5d23",
   "metadata": {},
   "source": [
    "# 오늘의 주제\n",
    "* pickle 모듈을 사용한 직렬화/역직렬화(Serialization/Deserialization)\n",
    "* 객체(인스턴스)\n",
    "- 메모리에 생성\n",
    "* 채팅\n",
    "- 메시지(수신자, 송신자, 그룹, 텍스트)\n",
    "직렬화 : 객체를 파일에 저장가능, 객체를 네트워크 전송\n",
    "* Thread\n",
    "* Socket client"
   ]
  },
  {
   "cell_type": "code",
   "execution_count": null,
   "id": "5fb157db",
   "metadata": {},
   "outputs": [],
   "source": [
    "from emp import Emp"
   ]
  },
  {
   "cell_type": "code",
   "execution_count": null,
   "id": "f324a19a",
   "metadata": {},
   "outputs": [],
   "source": [
    "import pickle"
   ]
  },
  {
   "cell_type": "code",
   "execution_count": null,
   "id": "1aa81762",
   "metadata": {},
   "outputs": [],
   "source": [
    "emp = Emp(11, 'Smith', '010-2394-5410')"
   ]
  },
  {
   "cell_type": "markdown",
   "id": "8c657687",
   "metadata": {},
   "source": [
    "## 객체 직렬화(Object Serialization)"
   ]
  },
  {
   "cell_type": "code",
   "execution_count": null,
   "id": "9c413bcf",
   "metadata": {},
   "outputs": [],
   "source": [
    "# 객체 직렬화(Serialization)\n",
    "fw = open('empObj.pickle', 'wb')\n",
    "pickle.dump(emp, fw)\n",
    "fw.close()\n",
    "print('객체 직렬화 성공')"
   ]
  },
  {
   "cell_type": "markdown",
   "id": "0595c612",
   "metadata": {},
   "source": [
    "## 역직렬화(De-Serialization)"
   ]
  },
  {
   "cell_type": "code",
   "execution_count": null,
   "id": "14df7da9",
   "metadata": {},
   "outputs": [],
   "source": [
    "fr = open('empObj.pickle', 'rb')\n",
    "emp2 = pickle.load(fr)\n",
    "fr.close()\n",
    "print(emp2)\n",
    "print(emp2.name)"
   ]
  },
  {
   "cell_type": "code",
   "execution_count": null,
   "id": "5c371bc8",
   "metadata": {
    "scrolled": true
   },
   "outputs": [],
   "source": [
    "emp==emp2   #  emp.__eq__(emp2)"
   ]
  },
  {
   "cell_type": "code",
   "execution_count": null,
   "id": "de448809",
   "metadata": {},
   "outputs": [],
   "source": [
    "emplist = [ Emp(11), Emp(12), Emp(13) ]"
   ]
  },
  {
   "cell_type": "code",
   "execution_count": null,
   "id": "43176ec1",
   "metadata": {},
   "outputs": [],
   "source": [
    "fw = open('emplist.pickle', 'wb')\n",
    "pickle.dump(emplist, fw)\n",
    "fw.close()\n",
    "\n",
    "print(\"리스트 직렬화 완료\")"
   ]
  },
  {
   "cell_type": "code",
   "execution_count": null,
   "id": "f4da310c",
   "metadata": {},
   "outputs": [],
   "source": [
    "fr = open('emplist.pickle', 'rb')\n",
    "emps = pickle.load(fr)\n",
    "fr.close()\n",
    "\n",
    "print(emps[0])\n",
    "print(\"리스트 역직렬화 성공\")"
   ]
  },
  {
   "cell_type": "code",
   "execution_count": null,
   "id": "65bb01c6",
   "metadata": {},
   "outputs": [],
   "source": [
    "# 객체 > 텍스트 파일,   텍스트 > 객체 매핑\n",
    "# 객체 > 객체,   객체 > 객체"
   ]
  },
  {
   "cell_type": "code",
   "execution_count": null,
   "id": "1370493e",
   "metadata": {},
   "outputs": [],
   "source": [
    "# 프로그램이 시작되면 메뉴 6개가 표시된다\n",
    "# 목록(s), 추가(a), 검색(f), 수정(u), 삭제(d), 종료(x)\n",
    "# 추가(a)하고 목록보기가 되도록 기능을 작성해보세요."
   ]
  },
  {
   "cell_type": "code",
   "execution_count": null,
   "id": "dc565c80",
   "metadata": {},
   "outputs": [],
   "source": [
    "import pickle\n",
    "from emp import Emp"
   ]
  },
  {
   "cell_type": "code",
   "execution_count": null,
   "id": "7e3a55aa",
   "metadata": {},
   "outputs": [],
   "source": [
    "emplist = []"
   ]
  },
  {
   "cell_type": "code",
   "execution_count": null,
   "id": "cca3f17d",
   "metadata": {},
   "outputs": [],
   "source": [
    "def save_emplist():\n",
    "    saved = False\n",
    "    try:\n",
    "        with open('crud_list.pickle', 'wb') as fout:\n",
    "            pickle.dump(emplist, fout)\n",
    "            saved = True\n",
    "    except:\n",
    "        pass\n",
    "    return saved"
   ]
  },
  {
   "cell_type": "code",
   "execution_count": null,
   "id": "66c677b5",
   "metadata": {},
   "outputs": [],
   "source": [
    "def add_emp(emp):\n",
    "    emplist.append(emp)\n",
    "    return save_emplist()"
   ]
  },
  {
   "cell_type": "code",
   "execution_count": null,
   "id": "adcf8323",
   "metadata": {},
   "outputs": [],
   "source": [
    "def show_list():\n",
    "    with open('crud_list.pickle','rb') as fin:\n",
    "        elist = pickle.load(fin)\n",
    "        #elist.sort(key=lambda e:e.num)\n",
    "        elist.sort(key=lambda e:int(e.num))\n",
    "        for e in elist:\n",
    "            print(e)"
   ]
  },
  {
   "cell_type": "code",
   "execution_count": null,
   "id": "4ce01ed5",
   "metadata": {},
   "outputs": [],
   "source": [
    "def find_emp(emp):\n",
    "    found = None\n",
    "    with open('crud_list.pickle','rb') as fin:\n",
    "        elist = pickle.load(fin)\n",
    "        if emp in elist:\n",
    "            found = elist[elist.index(emp)]\n",
    "    return found"
   ]
  },
  {
   "cell_type": "code",
   "execution_count": null,
   "id": "0a7813da",
   "metadata": {},
   "outputs": [],
   "source": [
    "def update_emp(emp):\n",
    "    updated = None\n",
    "    global emplist   # 현재 함수 외부에 선언된 변수(global)\n",
    "    with open('crud_list.pickle','rb') as fin:\n",
    "        emplist = pickle.load(fin)\n",
    "        if emp in emplist:\n",
    "            emplist[emplist.index(emp)].phone = emp.phone\n",
    "            updated = save_emplist()\n",
    "    return updated"
   ]
  },
  {
   "cell_type": "code",
   "execution_count": null,
   "id": "8b6fa8a4",
   "metadata": {},
   "outputs": [],
   "source": [
    "def delete_emp(emp):\n",
    "    global emplist\n",
    "    deleted = False\n",
    "    with open('crud_list.pickle','rb') as fin:\n",
    "        emplist = pickle.load(fin)\n",
    "        if emp in emplist:\n",
    "            emplist.remove(emp)\n",
    "            deleted = save_emplist()\n",
    "    return deleted"
   ]
  },
  {
   "cell_type": "code",
   "execution_count": null,
   "id": "2932cdae",
   "metadata": {},
   "outputs": [],
   "source": [
    "def is_duplicate(emp):\n",
    "    with open('crud_list.pickle','rb') as fin:\n",
    "        emplist = pickle.load(fin)\n",
    "        if emp in emplist:\n",
    "            return True\n",
    "    return False"
   ]
  },
  {
   "cell_type": "code",
   "execution_count": null,
   "id": "272c3be1",
   "metadata": {},
   "outputs": [],
   "source": [
    "while True:\n",
    "    \n",
    "    menu = input('목록(s), 추가(a), 검색(f), 수정(u), 삭제(d), 종료(x):').strip()\n",
    "    \n",
    "    if menu.upper()=='A':\n",
    "        num,name,phone = input('사원번호 이름 전화:').strip().split()\n",
    "        emp = Emp(num,name,phone)\n",
    "        if is_duplicate(emp):\n",
    "            print('번호 중복, 추가 실패!')\n",
    "            continue\n",
    "        if add_emp(emp):\n",
    "            print('사원정보 추가 성공')\n",
    "        else:\n",
    "            print('사원정보 추가 실패')\n",
    "            \n",
    "    elif menu.upper()=='S':\n",
    "        show_list()\n",
    "        \n",
    "    elif menu.upper()=='F':\n",
    "        sNum = input('검색할 사원번호:').strip()\n",
    "        found = find_emp( Emp(sNum))\n",
    "        if found:\n",
    "            print(found)\n",
    "        else:\n",
    "            print('검색 실패')\n",
    "            \n",
    "    elif menu.upper()=='U':\n",
    "        num,phone = input('변경할 사원번호 전화번호:').strip().split()\n",
    "        if update_emp( Emp(num, phone=phone)):\n",
    "            print('수정 성공')\n",
    "        else:\n",
    "            print('수정 실패')\n",
    "            \n",
    "    elif menu.upper()=='D':\n",
    "        sNum = input('삭제할 사원번호:').strip()\n",
    "        if delete_emp( Emp(sNum)) :\n",
    "            print('삭제 성공')\n",
    "        else:\n",
    "            print('삭제 실패')\n",
    "            \n",
    "    elif menu.upper()=='X':\n",
    "        break;\n",
    "    else:\n",
    "        print('메뉴입력 오류')\n",
    "        \n",
    "print('프로그램 종료...')"
   ]
  },
  {
   "cell_type": "code",
   "execution_count": null,
   "id": "3e60a1f7",
   "metadata": {
    "scrolled": true
   },
   "outputs": [],
   "source": [
    "with open('crud_list.pickle','rb') as fin:\n",
    "        elist = pickle.load(fin)\n",
    "elist\n",
    "for e in elist:\n",
    "    print(e)"
   ]
  },
  {
   "cell_type": "code",
   "execution_count": null,
   "id": "fdf00095",
   "metadata": {
    "scrolled": true
   },
   "outputs": [],
   "source": [
    "elist\n",
    "byte_arr = pickle.dumps(elist)\n",
    "print(byte_arr)"
   ]
  },
  {
   "cell_type": "code",
   "execution_count": null,
   "id": "4a1f1c16",
   "metadata": {},
   "outputs": [],
   "source": [
    "elist2 = pickle.loads(byte_arr)\n",
    "for e in elist2:\n",
    "    print(e)"
   ]
  },
  {
   "cell_type": "code",
   "execution_count": null,
   "id": "d4c16d5c",
   "metadata": {},
   "outputs": [],
   "source": [
    "elist.sort(key=lambda e:e.num)\n",
    "for e in elist:\n",
    "    print(e)"
   ]
  },
  {
   "cell_type": "code",
   "execution_count": null,
   "id": "43ea814d",
   "metadata": {
    "scrolled": true
   },
   "outputs": [],
   "source": [
    "nums = [3,5,1,4,2]\n",
    "sorted(nums)\n",
    "nums.sort()\n",
    "nums"
   ]
  },
  {
   "cell_type": "code",
   "execution_count": null,
   "id": "7339b859",
   "metadata": {},
   "outputs": [],
   "source": [
    "outer_num = 100"
   ]
  },
  {
   "cell_type": "code",
   "execution_count": null,
   "id": "d611b0db",
   "metadata": {},
   "outputs": [],
   "source": [
    "def value_use():\n",
    "    print(outer_num + 10)"
   ]
  },
  {
   "cell_type": "code",
   "execution_count": null,
   "id": "fd469a44",
   "metadata": {},
   "outputs": [],
   "source": [
    "value_use()"
   ]
  },
  {
   "cell_type": "code",
   "execution_count": null,
   "id": "7cea86b9",
   "metadata": {},
   "outputs": [],
   "source": [
    "def value_change():\n",
    "    global outer_num\n",
    "    outer_num = 10\n",
    "    print(outer_num)  # 10"
   ]
  },
  {
   "cell_type": "code",
   "execution_count": null,
   "id": "9dc9f6ab",
   "metadata": {},
   "outputs": [],
   "source": [
    "value_change()"
   ]
  },
  {
   "cell_type": "code",
   "execution_count": null,
   "id": "ecb94ccd",
   "metadata": {},
   "outputs": [],
   "source": [
    "outer_num"
   ]
  },
  {
   "cell_type": "code",
   "execution_count": null,
   "id": "b7d87d96",
   "metadata": {},
   "outputs": [],
   "source": [
    "def value_use2():\n",
    "    num = outer_num+100\n",
    "    print(num)"
   ]
  },
  {
   "cell_type": "code",
   "execution_count": null,
   "id": "b8089d32",
   "metadata": {},
   "outputs": [],
   "source": [
    "value_use2()"
   ]
  },
  {
   "cell_type": "code",
   "execution_count": null,
   "id": "29ebca32",
   "metadata": {
    "scrolled": true
   },
   "outputs": [],
   "source": [
    "# dumps(), loads()\n",
    "emplist"
   ]
  },
  {
   "cell_type": "markdown",
   "id": "c2b75e12",
   "metadata": {},
   "source": [
    "# Thread"
   ]
  },
  {
   "cell_type": "code",
   "execution_count": null,
   "id": "726deb44",
   "metadata": {},
   "outputs": [],
   "source": [
    "# Thread, Runnable, run()\n",
    "# Process : 현재 실행중인 프로그램\n",
    "# Process 안에서 동시에 실행 가능한 소규모 Process"
   ]
  },
  {
   "cell_type": "code",
   "execution_count": null,
   "id": "d34a156e",
   "metadata": {},
   "outputs": [],
   "source": [
    "# 함수, 메소드, run()"
   ]
  },
  {
   "cell_type": "code",
   "execution_count": null,
   "id": "dfc99830",
   "metadata": {},
   "outputs": [],
   "source": [
    "import threading\n",
    "import time\n",
    "import datetime"
   ]
  },
  {
   "cell_type": "code",
   "execution_count": null,
   "id": "e9c7f217",
   "metadata": {},
   "outputs": [],
   "source": [
    "def t1(name):\n",
    "    while True:\n",
    "        print(name, datetime.datetime.now())\n",
    "        time.sleep(1) # 1초"
   ]
  },
  {
   "cell_type": "code",
   "execution_count": null,
   "id": "fb8d095e",
   "metadata": {},
   "outputs": [],
   "source": [
    " # t1('Date Thread')"
   ]
  },
  {
   "cell_type": "code",
   "execution_count": null,
   "id": "1d828a36",
   "metadata": {},
   "outputs": [],
   "source": [
    "def t2(name):\n",
    "    i = 0\n",
    "    while True:\n",
    "        i += 1\n",
    "        print(name, i)\n",
    "        time.sleep(1)"
   ]
  },
  {
   "cell_type": "code",
   "execution_count": null,
   "id": "56511313",
   "metadata": {},
   "outputs": [],
   "source": [
    "# t2('Num Thread')"
   ]
  },
  {
   "cell_type": "code",
   "execution_count": null,
   "id": "d436f183",
   "metadata": {
    "scrolled": true
   },
   "outputs": [],
   "source": [
    "th1 = threading.Thread(target = t1, args = ('Date Thread', ))\n",
    "th1.daemon = True\n",
    "th1.start()\n",
    "\n",
    "th2 = threading.Thread(target = t2, args = ('Num Thread', ))\n",
    "th2.daemon = True\n",
    "th2.start()"
   ]
  },
  {
   "cell_type": "code",
   "execution_count": null,
   "id": "51a74cb2",
   "metadata": {},
   "outputs": [],
   "source": [
    "# 객체의 멤버 메소드를 쓰레드의 타겟으로 설정하는 예\n",
    "# threading.Thread(target = t1, args = ('Date Thread', ))"
   ]
  },
  {
   "cell_type": "code",
   "execution_count": null,
   "id": "92eb6aac",
   "metadata": {},
   "outputs": [],
   "source": [
    "# 가상의 CPU역할을 하는 클래스 정의\n",
    "import threading\n",
    "import time\n",
    "import datetime\n",
    "\n",
    "class MyGame(threading.Thread): # Thread 클래스 상속\n",
    "    def __init__(self, name):\n",
    "        threading.Thread.__init__(self)\n",
    "        print(name, 'instanciated')\n",
    "        self.daemon = True\n",
    "    \n",
    "    def run(self):\n",
    "        while True:\n",
    "            print(datetime.datetime.now())\n",
    "            time.sleep(1) # 1초 쉼\n",
    "    \n",
    "my_thread = MyGame('game thread')\n",
    "# my_thread.daemon = True\n",
    "my_thread.start()"
   ]
  },
  {
   "cell_type": "code",
   "execution_count": null,
   "id": "d927b752",
   "metadata": {},
   "outputs": [],
   "source": [
    "# 서버에 접속, 데이터 송수신\n",
    "# 서버는 클라이언트 접속 대기 상태로 존재해야 함\n",
    "# 서버는 특정 클라이언트 간의 통신 중개 역할\n",
    "\n",
    "from socket import *\n",
    "import pickle\n",
    "import time\n",
    "\n",
    "clientSock = socket(AF_INET, SOCK_STREAM) # 소켓 생성\n",
    "clientSock.connect(('127.0.0.1', 1122))   # 서버에 접속\n",
    "\n",
    "msg = clientSock.recv(1024)               # 서버 데이터 수신 대기\n",
    "print(msg.decode('utf-8'))                # 서버로부터 수신된 데이터를 화면에 표시\n",
    "\n",
    "clientSock.send('클라이언트 메시지'.encode('utf-8'))\n",
    "\n",
    "time.sleep(1)\n",
    "print('클라이언트 종료...')"
   ]
  },
  {
   "cell_type": "code",
   "execution_count": null,
   "id": "becda0ee",
   "metadata": {},
   "outputs": [],
   "source": [
    "class ChatMsg:\n",
    "    def __init__(self, contents, to=None, frm=None, attach=None):\n",
    "        self.contents = contents\n",
    "        self.to = to\n",
    "        self.frm = frm\n",
    "        self.attach = attach\n",
    "        \n",
    "    def __str__(self):\n",
    "        return \"contents={}, frm={}, to={}\".format(self.contents, self.to, self.frm)"
   ]
  },
  {
   "cell_type": "code",
   "execution_count": null,
   "id": "4be8544d",
   "metadata": {
    "scrolled": true
   },
   "outputs": [],
   "source": [
    "from socket import *\n",
    "import pickle\n",
    "import time\n",
    "from chat import ChatMsg\n",
    "\n",
    "clientSock = socket(AF_INET, SOCK_STREAM)  # 소켓 생성\n",
    "clientSock.connect(('127.0.0.1', 1122))    # 서버에 접속\n",
    "\n",
    "msg = clientSock.recv(1024)                # 서버 데이터 수신 대기\n",
    "print(pickle.loads(msg))                   # 서버로부터 수신된 데이터를 화면에 표시\n",
    "\n",
    "chatmsg = ChatMsg('클라이언트에서 전하는 말')\n",
    "clientSock.send(pickle.dumps(chatmsg))\n",
    "\n",
    "time.sleep(1)\n",
    "clientSock.close()\n",
    "print('클라이언트 종료...')"
   ]
  },
  {
   "cell_type": "code",
   "execution_count": null,
   "id": "1a067144",
   "metadata": {},
   "outputs": [],
   "source": [
    "# 서버에서 수신되는 메시지는 루프를 사용하여 대기한다\n",
    "# 클라이언트는 임의의 시기에 메시지를 서버로 전달가능해야 한다"
   ]
  }
 ],
 "metadata": {
  "kernelspec": {
   "display_name": "Python 3 (ipykernel)",
   "language": "python",
   "name": "python3"
  },
  "language_info": {
   "codemirror_mode": {
    "name": "ipython",
    "version": 3
   },
   "file_extension": ".py",
   "mimetype": "text/x-python",
   "name": "python",
   "nbconvert_exporter": "python",
   "pygments_lexer": "ipython3",
   "version": "3.9.7"
  },
  "vp": {
   "vp_config_version": "1.0.0",
   "vp_menu_width": 273,
   "vp_note_display": true,
   "vp_note_width": 263,
   "vp_position": {
    "width": 541
   },
   "vp_section_display": false,
   "vp_signature": "VisualPython"
  }
 },
 "nbformat": 4,
 "nbformat_minor": 5
}
