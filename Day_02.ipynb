{
 "cells": [
  {
   "cell_type": "markdown",
   "id": "aac72d55",
   "metadata": {},
   "source": [
    "# 오늘의 주제\n",
    "랜덤, 정렬, 추출, 삭제, 평균값\n",
    "슬라이스\n",
    "True, False, and\n",
    "논리 연산자\n",
    "날짜\n",
    "list, dictionary, set"
   ]
  },
  {
   "cell_type": "code",
   "execution_count": 24,
   "id": "91b34d94",
   "metadata": {},
   "outputs": [
    {
     "name": "stdout",
     "output_type": "stream",
     "text": [
      "0\n"
     ]
    }
   ],
   "source": [
    "import random as rd\n",
    "print(rd.randint(0,5))"
   ]
  },
  {
   "cell_type": "code",
   "execution_count": 26,
   "id": "047e7b9f",
   "metadata": {},
   "outputs": [
    {
     "name": "stdout",
     "output_type": "stream",
     "text": [
      "[9, 9, 8, 8, 6, 5, 5, 2, 2, 0]\n",
      "[9, 9, 8, 8, 6, 5, 5, 2, 2]\n",
      "6\n",
      "6.5\n"
     ]
    }
   ],
   "source": [
    "# 임의의 정수 10개를 추출하고 내림차순으로 정렬하고, 화면에 표시\n",
    "import random # 모듈\n",
    "# rd_num = random.randint(0,10)\n",
    "list1 = []\n",
    "for i in range(10):\n",
    "    rd_num1 = random.randint(0,10)\n",
    "    list1.append(rd_num1)\n",
    "    list1.sort(reverse=True)\n",
    "print(list1)\n",
    "\n",
    "# 맨 마지막에 있는 정수 1개 삭제\n",
    "del list1[-1]\n",
    "print(list1)\n",
    "\n",
    "# 중간에 위치한 수를 추출하여 화면에 표시\n",
    "print(list1[int(len(list1)/2)])\n",
    "\n",
    "# 중간 양쪽에 있는 수의 평균값\n",
    "a = (list1[int(len(list1)/2)+1] + list1[int(len(list1)/2)-1]) / 2\n",
    "print(a)"
   ]
  },
  {
   "cell_type": "code",
   "execution_count": 30,
   "id": "6dc19803",
   "metadata": {},
   "outputs": [
    {
     "name": "stdout",
     "output_type": "stream",
     "text": [
      "[0, 2, 0, 4, 0, 6, 0, 8, 0, 10]\n",
      "[0, 2, 0, 4, 0, 6, 0, 8, 0, 10]\n"
     ]
    }
   ],
   "source": [
    "# 1~10 사이의 정수 중에서 짝수만 선택하여 리스트의 원소에 저장하고\n",
    "# 홀수는 0으로 변경하여 저장한 후 리스트의 모든 원소를 화면에 표시해 보세요.\n",
    "list2 = []\n",
    "for i in range(1, 11):\n",
    "    if i % 2 !=0:\n",
    "        i = 0\n",
    "        list2.append(i)\n",
    "    else:\n",
    "        list2.append(i)\n",
    "print(list2)\n",
    "\n",
    "nums = [v if v % 2 == 0 else 0 for v in range(1,11)]\n",
    "print(nums)"
   ]
  },
  {
   "cell_type": "code",
   "execution_count": 34,
   "id": "eb80f696",
   "metadata": {},
   "outputs": [
    {
     "name": "stdout",
     "output_type": "stream",
     "text": [
      "[0, 6, 0]\n",
      "100\n"
     ]
    }
   ],
   "source": [
    "print(nums[4:7])\n",
    "nums2 = nums[4:7]\n",
    "nums2[0] = 100\n",
    "print(nums2[0])"
   ]
  },
  {
   "cell_type": "code",
   "execution_count": 36,
   "id": "86d0f571",
   "metadata": {},
   "outputs": [
    {
     "name": "stdout",
     "output_type": "stream",
     "text": [
      "[100, 2, 0, 4, 0, 6, 0, 8, 0, 10]\n",
      "[100, 2, 0, 4, 0, 6, 0, 8, 0, 10]\n"
     ]
    }
   ],
   "source": [
    "nums3 = nums # Shallow Copy 얕은 복사\n",
    "nums3[0] = 100\n",
    "print(nums3)\n",
    "print(nums)"
   ]
  },
  {
   "cell_type": "code",
   "execution_count": 37,
   "id": "bbc2fe6b",
   "metadata": {
    "scrolled": true
   },
   "outputs": [
    {
     "name": "stdout",
     "output_type": "stream",
     "text": [
      "[100, 2, 0, 4, 0, 6, 0, 8, 0, 10]\n",
      "[200, 2, 0, 4, 0, 6, 0, 8, 0, 10]\n",
      "[100, 2, 0, 4, 0, 6, 0, 8, 0, 10]\n"
     ]
    }
   ],
   "source": [
    "nums4 = nums[:] # Deep Copy 깊은 복사\n",
    "print(nums4)\n",
    "nums4[0] = 200\n",
    "print(nums4)\n",
    "print(nums)"
   ]
  },
  {
   "cell_type": "code",
   "execution_count": 38,
   "id": "f721fbe2",
   "metadata": {},
   "outputs": [
    {
     "name": "stdout",
     "output_type": "stream",
     "text": [
      "[100, 2, 0, 4, 0, 6, 0, 8, 0, 10, -5]\n"
     ]
    }
   ],
   "source": [
    "nums.append(-5)\n",
    "print(nums)"
   ]
  },
  {
   "cell_type": "code",
   "execution_count": 40,
   "id": "a6d3bccb",
   "metadata": {},
   "outputs": [
    {
     "name": "stdout",
     "output_type": "stream",
     "text": [
      "[4, 5, 6]\n",
      "4 5 6\n"
     ]
    }
   ],
   "source": [
    "num_list = [4, 5, 6]\n",
    "print(num_list)\n",
    "a , b, c = num_list\n",
    "print(a, b, c)"
   ]
  },
  {
   "cell_type": "code",
   "execution_count": 49,
   "id": "4d386ee2",
   "metadata": {
    "scrolled": true
   },
   "outputs": [
    {
     "name": "stdout",
     "output_type": "stream",
     "text": [
      "(6, 6, 10)\n",
      "<class 'tuple'>\n",
      "(6, 6, 10)\n",
      "<class 'tuple'>\n",
      "(1, 2, 3)\n",
      "<class 'tuple'>\n"
     ]
    }
   ],
   "source": [
    "# 무작위 정수 10개를 준비하고 처음 3래를 추출하여 튜플에 저장하고\n",
    "# 튜프의 내용을 화면에 표시\n",
    "import random as rd\n",
    "list3 = []\n",
    "\n",
    "for i in range(10):\n",
    "    rd_num1 = random.randint(0,10)\n",
    "    list3.append(rd_num1)\n",
    "\n",
    "tuple1 = (list3[0], list3[1], list3[2])    \n",
    "print(tuple1)\n",
    "print(type(tuple1))\n",
    "\n",
    "a, b, c = (list3[:3])\n",
    "tuple11 = (a, b, c)\n",
    "print(tuple11)\n",
    "print(type(tuple11))\n",
    "\n",
    "nums = [v for v in range(1,11)]\n",
    "tuple2 = (nums[0], nums[1], nums[2]) \n",
    "print(tuple2)\n",
    "print(type(tuple2))"
   ]
  },
  {
   "cell_type": "code",
   "execution_count": 4,
   "id": "560fdf7e",
   "metadata": {
    "scrolled": false
   },
   "outputs": [
    {
     "name": "stdout",
     "output_type": "stream",
     "text": [
      "아이디 패스워드: smith 0000\n",
      "로그인 성공\n"
     ]
    }
   ],
   "source": [
    "# 키보드에서 아이디, 암호를 입력 받아서 로그인 하는 기능 구현\n",
    "# 미리 uid, pwd 리스트를 생성해놓고 몇개의 정보를 준비함\n",
    "# uid, pwd에는 아이디는 모두 대문자로 준비함\n",
    "# 로그인에 성공할 때까지 반복해서 시도할 수 있도록 함(3번까지)\n",
    "# 결국 로그인에 성공하면 '로그인 성공', 아니면 '로그인 실패' 표시\n",
    "\n",
    "uid_list = ['SMITH', 'JONE', 'ELISE']\n",
    "pwd_list = ['0000', '1111', '2222']\n",
    "\n",
    "for i in range(3):\n",
    "    uid,pwd = input(\"아이디 패스워드: \").split()\n",
    "    idx = uid_list.index(uid.upper())\n",
    "    if (uid_list[idx] == uid.upper()) and (pwd_list[idx] == pwd):\n",
    "        print('로그인 성공')\n",
    "        break\n",
    "    else:\n",
    "        print('로그인 실패')\n",
    "\n"
   ]
  },
  {
   "cell_type": "code",
   "execution_count": 1,
   "id": "e5d50832",
   "metadata": {},
   "outputs": [
    {
     "name": "stdout",
     "output_type": "stream",
     "text": [
      "아이디 패스워드: 1 1\n",
      "로그인 실패:'1' is not in list\n",
      "아이디 패스워드: SMITH 1\n",
      "다시 입력해주세요\n",
      "아이디 패스워드: SMITH 0000\n",
      "로그인 성공\n"
     ]
    }
   ],
   "source": [
    "uid_list = ['SMITH', 'JONE', 'ELISE']\n",
    "pwd_list = ['0000', '1111', '2222']\n",
    "\n",
    "for i in range(3):\n",
    "    uid,pwd = input(\"아이디 패스워드: \").split()\n",
    "    try:\n",
    "        idx = uid_list.index(uid.upper())\n",
    "        if (uid_list[idx] == uid.upper()) and (pwd_list[idx] == pwd):\n",
    "            print('로그인 성공')\n",
    "            break\n",
    "        else:\n",
    "            print('다시 입력해주세요')\n",
    "    except ValueError as e:\n",
    "        print('로그인 실패: ' + str(e))"
   ]
  },
  {
   "cell_type": "code",
   "execution_count": 2,
   "id": "4bad4d83",
   "metadata": {},
   "outputs": [
    {
     "data": {
      "text/plain": [
       "True"
      ]
     },
     "execution_count": 2,
     "metadata": {},
     "output_type": "execute_result"
    }
   ],
   "source": [
    "1 < 2"
   ]
  },
  {
   "cell_type": "code",
   "execution_count": 3,
   "id": "37e2b5ba",
   "metadata": {
    "scrolled": true
   },
   "outputs": [
    {
     "data": {
      "text/plain": [
       "True"
      ]
     },
     "execution_count": 3,
     "metadata": {},
     "output_type": "execute_result"
    }
   ],
   "source": [
    "1 < 2 and 3 > 2"
   ]
  },
  {
   "cell_type": "code",
   "execution_count": 6,
   "id": "555ecb84",
   "metadata": {},
   "outputs": [
    {
     "name": "stdout",
     "output_type": "stream",
     "text": [
      "True\n",
      "False\n"
     ]
    }
   ],
   "source": [
    "print('a' in ['a', 'b', 'c'])\n",
    "print('d' in ['a', 'b', 'c'])"
   ]
  },
  {
   "cell_type": "code",
   "execution_count": 13,
   "id": "60fd5906",
   "metadata": {
    "scrolled": true
   },
   "outputs": [
    {
     "name": "stdout",
     "output_type": "stream",
     "text": [
      "2022-05-03\n",
      "2022\n",
      "5\n",
      "3\n",
      "1\n",
      "2\n"
     ]
    }
   ],
   "source": [
    "# 파이썬 날짜 다루기\n",
    "import datetime\n",
    "# import datetime as dt\n",
    "from datetime import date\n",
    "\n",
    "today = datetime.date.today()\n",
    "print(today)\n",
    "\n",
    "print(today.year)\n",
    "print(today.month)\n",
    "print(today.day)\n",
    "print(today.weekday())    # 월(0), 화(1)\n",
    "print(today.isoweekday()) # 월(1), 화(2)"
   ]
  },
  {
   "cell_type": "code",
   "execution_count": 15,
   "id": "56b891d8",
   "metadata": {},
   "outputs": [
    {
     "name": "stdout",
     "output_type": "stream",
     "text": [
      "2022-05-03\n",
      "2022\n",
      "5\n",
      "3\n",
      "1\n",
      "2\n"
     ]
    }
   ],
   "source": [
    "import datetime\n",
    "from datetime import date\n",
    "today = date.today()\n",
    "print(today)\n",
    "\n",
    "print(today.year)\n",
    "print(today.month)\n",
    "print(today.day)\n",
    "print(today.weekday())    # 월(0), 화(1)\n",
    "print(today.isoweekday()) # 월(1), 화(2)"
   ]
  },
  {
   "cell_type": "code",
   "execution_count": 25,
   "id": "fe1018c9",
   "metadata": {},
   "outputs": [
    {
     "name": "stdout",
     "output_type": "stream",
     "text": [
      "2022년 5월 3일 화요일\n"
     ]
    }
   ],
   "source": [
    "import datetime\n",
    "from datetime import date\n",
    "d = date.today()\n",
    "t = ['월', '화', '수', '목', '금', '토', '일']\n",
    "r = d.weekday()\n",
    "print (str(d.year)+'년', str(d.month)+'월', str(d.day)+'일', t[r]+'요일')\n"
   ]
  },
  {
   "cell_type": "code",
   "execution_count": 29,
   "id": "0112b920",
   "metadata": {
    "scrolled": false
   },
   "outputs": [
    {
     "name": "stdout",
     "output_type": "stream",
     "text": [
      "아이디 패스워드: smith 1\n",
      "로그인 실패\n",
      "아이디 패스워드: smith 0000\n",
      "로그인 성공\n"
     ]
    }
   ],
   "source": [
    "uid_list = ['SMITH', 'JONE', 'ELISE']\n",
    "pwd_list = ['0000', '1111', '2222']\n",
    "\n",
    "for i in range(3):\n",
    "    uid,pwd = input(\"아이디 패스워드: \").split()\n",
    "    if uid.upper() in uid_list:\n",
    "        idx = uid_list.index(uid.upper())\n",
    "        if (uid_list[idx] == uid.upper()) and (pwd_list[idx] == pwd):\n",
    "            print('로그인 성공')\n",
    "            break\n",
    "        else:\n",
    "            print('로그인 실패')"
   ]
  },
  {
   "cell_type": "code",
   "execution_count": 33,
   "id": "d7ba63c2",
   "metadata": {},
   "outputs": [
    {
     "name": "stdout",
     "output_type": "stream",
     "text": [
      "<class 'dict'>\n"
     ]
    }
   ],
   "source": [
    "users = [{}, {}, {}]\n",
    "print(type(users[0]))\n",
    "# print(users[0]['key'])"
   ]
  },
  {
   "cell_type": "code",
   "execution_count": 47,
   "id": "d15fc876",
   "metadata": {
    "scrolled": true
   },
   "outputs": [
    {
     "name": "stdout",
     "output_type": "stream",
     "text": [
      "번호, 이름, 전화를 입력하세요: 1 1 1\n",
      "번호, 이름, 전화를 입력하세요: 2 2 2\n",
      "번호, 이름, 전화를 입력하세요: 3 3 3\n",
      "1\t1\t1\n",
      "2\t2\t2\n",
      "3\t3\t3\n"
     ]
    }
   ],
   "source": [
    "# 키보드에서 3인의 회원정보를 입력 받는다\n",
    "# (번호, 이름, 전화)\n",
    "# 입력을 마치면, 입력된 모든 정보를 리스트로 화면에 표시\n",
    "users = []\n",
    "for i in range(3):\n",
    "    num, name, phone = input(\"번호, 이름, 전화를 입력하세요: \").split()\n",
    "    users.append({'num':num, 'name':name, 'phone':phone})\n",
    "\n",
    "for user in users:\n",
    "    s = f\"{user['num']}\\t{user['name']}\\t{user['phone']}\"\n",
    "    print(s)"
   ]
  },
  {
   "cell_type": "code",
   "execution_count": 46,
   "id": "8bffdbf3",
   "metadata": {},
   "outputs": [
    {
     "name": "stdout",
     "output_type": "stream",
     "text": [
      "3\n",
      "4\n"
     ]
    }
   ],
   "source": [
    "print(users[2]['phone'])\n",
    "users[2]['phone'] = \"4\"\n",
    "print(users[2]['phone'])"
   ]
  },
  {
   "cell_type": "code",
   "execution_count": 52,
   "id": "1b814d92",
   "metadata": {},
   "outputs": [
    {
     "name": "stdout",
     "output_type": "stream",
     "text": [
      "1\t1\t1\n",
      "2\t2\t2\n",
      "3\t3\t전화기 분실\n"
     ]
    }
   ],
   "source": [
    "users[2]['phone'] = \"전화기 분실\"\n",
    "for user in users:\n",
    "    s = f\"{user['num']}\\t{user['name']}\\t{user['phone']}\"\n",
    "    print(s)"
   ]
  },
  {
   "cell_type": "code",
   "execution_count": 53,
   "id": "d41f94d0",
   "metadata": {},
   "outputs": [
    {
     "name": "stdout",
     "output_type": "stream",
     "text": [
      "1\t1\t1\n",
      "2\t2\t2\n",
      "3\t3\t전화기분실\n"
     ]
    }
   ],
   "source": [
    "del users[2]['phone']\n",
    "for user in users:\n",
    "    s = f\"{user['num']}\\t{user['name']}\\t{user.get('phone', '전화기분실')}\"\n",
    "    print(s)\n"
   ]
  },
  {
   "cell_type": "code",
   "execution_count": 58,
   "id": "0676b147",
   "metadata": {},
   "outputs": [
    {
     "name": "stdout",
     "output_type": "stream",
     "text": [
      "번호, 이름, 전화를 입력하세요: 1 1 1\n",
      "번호, 이름, 전화를 입력하세요: 2 2 2\n",
      "번호, 이름, 전화를 입력하세요: 3 3 3\n",
      "검색할 회원번호: 3\n",
      "3\t3\t3\n"
     ]
    }
   ],
   "source": [
    "users = []\n",
    "for i in range(3):\n",
    "    num, name, phone = input(\"번호, 이름, 전화를 입력하세요: \").split()\n",
    "    users.append({'num':num, 'name':name, 'phone':phone})\n",
    "\n",
    "num = input('검색할 회원번호: ').strip()    \n",
    "for user in users:\n",
    "    if num==user['num']:\n",
    "        s = f\"{user['num']}\\t{user['name']}\\t{user['phone']}\"\n",
    "        print(s)\n",
    "        break\n",
    "\n",
    "\n",
    "    "
   ]
  },
  {
   "cell_type": "code",
   "execution_count": null,
   "id": "cfa77bea",
   "metadata": {},
   "outputs": [],
   "source": [
    "# list , set , dictionary\n",
    "# list : 순서 유지, 중복 활용\n",
    "# set  : 순서 없음, 중복 불허\n",
    "# dict : key, value 쌍으로 저장 "
   ]
  },
  {
   "cell_type": "code",
   "execution_count": 59,
   "id": "2fb6b753",
   "metadata": {
    "scrolled": true
   },
   "outputs": [
    {
     "name": "stdout",
     "output_type": "stream",
     "text": [
      "{1, 2}\n"
     ]
    }
   ],
   "source": [
    "print(set([1, 1, 1, 1, 2]))"
   ]
  },
  {
   "cell_type": "code",
   "execution_count": 60,
   "id": "04aa939e",
   "metadata": {
    "scrolled": true
   },
   "outputs": [
    {
     "name": "stdout",
     "output_type": "stream",
     "text": [
      "2\n"
     ]
    }
   ],
   "source": [
    "set1 = set([1, 1, 1, 1, 2])\n",
    "print(len(set1))"
   ]
  },
  {
   "cell_type": "code",
   "execution_count": 64,
   "id": "7b19b19a",
   "metadata": {},
   "outputs": [
    {
     "name": "stdout",
     "output_type": "stream",
     "text": [
      "{1, 2, 3, 4, 7, 9, 10}\n"
     ]
    }
   ],
   "source": [
    "# 1 ~ 10 사이의 정수 중에서 임의로 한 개를 추출하여 중복되지 않도록 7개를 추출하려고 한다.\n",
    "# 추출된 원소를 정렬하여 화면에 표시한다\n",
    "import random # 모듈\n",
    "\n",
    "set2 = set([])\n",
    "#print(type(set2))\n",
    "while True:\n",
    "    rd_num1 = random.randint(1,11)\n",
    "    set2.add(rd_num1)\n",
    "    if len(set2) > 6 :\n",
    "        print(set2)\n",
    "        break"
   ]
  },
  {
   "cell_type": "code",
   "execution_count": 1,
   "id": "ec404178",
   "metadata": {},
   "outputs": [
    {
     "name": "stdout",
     "output_type": "stream",
     "text": [
      "<class 'set'>\n",
      "{5, 6, 7, 8, 9, 10, 11}\n"
     ]
    }
   ],
   "source": [
    "import random \n",
    "\n",
    "set2 = set([])\n",
    "\n",
    "while True:\n",
    "    rd_num1 = random.randint(1,11)\n",
    "    set2.add(rd_num1)\n",
    "    if len(set2) == 7 :\n",
    "        print(set2)\n",
    "        break"
   ]
  }
 ],
 "metadata": {
  "kernelspec": {
   "display_name": "Python 3 (ipykernel)",
   "language": "python",
   "name": "python3"
  },
  "language_info": {
   "codemirror_mode": {
    "name": "ipython",
    "version": 3
   },
   "file_extension": ".py",
   "mimetype": "text/x-python",
   "name": "python",
   "nbconvert_exporter": "python",
   "pygments_lexer": "ipython3",
   "version": "3.9.7"
  }
 },
 "nbformat": 4,
 "nbformat_minor": 5
}
